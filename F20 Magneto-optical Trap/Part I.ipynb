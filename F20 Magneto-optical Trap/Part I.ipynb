{
 "cells": [
  {
   "cell_type": "code",
   "execution_count": 21,
   "metadata": {},
   "outputs": [
    {
     "data": {
      "image/png": "[encoded data removed]",
      "text/plain": [
       "<matplotlib.figure.Figure at 0x16675a23d30>"
      ]
     },
     "metadata": {},
     "output_type": "display_data"
    },
    {
     "name": "stdout",
     "output_type": "stream",
     "text": [
      "[-1.3182e-01 -1.3099e-01 -1.3029e-01 -1.2876e-01 -1.2487e-01 -1.2346e-01\n",
      " -1.2264e-01 -1.2193e-01 -1.2029e-01 -1.1958e-01 -1.1887e-01 -1.1358e-01\n",
      " -1.1276e-01 -1.1193e-01 -1.1052e-01 -1.0970e-01 -1.0887e-01 -1.0664e-01\n",
      " -1.0511e-01 -9.9813e-02 -9.8989e-02 -1.3351e-03 -6.2915e-04  7.6783e-05\n",
      "  9.0037e-04  3.2535e-03  5.4890e-03  6.3125e-03  7.0185e-03  7.7244e-03\n",
      "  1.0078e-02  1.6196e-02  1.6902e-02  2.7608e-02  2.9138e-02  2.9961e-02\n",
      "  3.1373e-02  3.2197e-02  3.2903e-02  3.3726e-02  3.6668e-02  3.7609e-02\n",
      "  3.8315e-02  3.9021e-02  3.9844e-02  4.0550e-02  4.1374e-02  4.2080e-02\n",
      "  4.2904e-02  4.4315e-02  4.5139e-02  4.5963e-02  4.6669e-02  4.7374e-02\n",
      "  4.8198e-02  4.8904e-02  4.9728e-02  5.0551e-02  5.1257e-02  5.1963e-02\n",
      "  5.2787e-02  5.3610e-02  5.4316e-02  5.5022e-02  5.5846e-02  5.6552e-02\n",
      "  5.7375e-02  5.8081e-02  5.8905e-02  5.9611e-02  6.0317e-02  6.1140e-02\n",
      "  6.1964e-02  6.2670e-02  6.3376e-02  6.4199e-02  6.5023e-02  6.5729e-02\n",
      "  6.6552e-02  6.7258e-02  6.7964e-02  6.8788e-02  6.9611e-02  7.0317e-02\n",
      "  7.1023e-02  7.1847e-02  7.2553e-02  7.3376e-02  7.4082e-02  7.4906e-02\n",
      "  7.5612e-02  7.6318e-02  7.7259e-02  7.7965e-02  7.8671e-02  7.9494e-02\n",
      "  8.0200e-02  8.1024e-02  8.1730e-02  8.2554e-02  8.3259e-02  8.3965e-02\n",
      "  8.4789e-02  8.5613e-02  8.6319e-02  8.7024e-02  8.7848e-02  8.8554e-02\n",
      "  8.9378e-02  9.0201e-02  9.0907e-02  9.1613e-02  9.2437e-02  9.3260e-02\n",
      "  9.3966e-02  9.4672e-02  9.5496e-02  9.6202e-02  9.7025e-02  9.7731e-02\n",
      "  9.8555e-02  9.9261e-02  9.9967e-02  1.0091e-01  1.0161e-01  1.0232e-01\n",
      "  1.0314e-01  1.0385e-01  1.0467e-01  1.0538e-01  1.0620e-01  1.0691e-01\n",
      "  1.0761e-01  1.0844e-01  1.0926e-01  1.0997e-01  1.1067e-01  1.1150e-01\n",
      "  1.1220e-01  1.1303e-01  1.1385e-01  1.1456e-01  1.1526e-01  1.1597e-01\n",
      "  1.1691e-01  1.1761e-01  1.1832e-01  1.1914e-01  1.1985e-01  1.2067e-01\n",
      "  1.2138e-01  1.2220e-01  1.2291e-01  1.2362e-01  1.2444e-01  1.2526e-01\n",
      "  1.2597e-01  1.2667e-01  1.2750e-01  1.2820e-01  1.2903e-01  1.2985e-01\n",
      "  1.3056e-01  1.3126e-01  1.3209e-01  1.3291e-01  1.3362e-01]\n"
     ]
    }
   ],
   "source": [
    "import numpy as np\n",
    "import matplotlib.pyplot as plt\n",
    "from astropy.modeling import models, fitting\n",
    "from astropy.stats import sigma_clip\n",
    "import scipy.signal as sgn\n",
    "\n",
    "# calibration time and frequency\n",
    "# the most distant 2 lines are the transition of Rb87 (left)F=2->F'=1, (right)F=1->F'=2\n",
    "left = 1e12*384.23048447-1e6*229.85-1e9*2.56301\n",
    "right = 1e12*384.23048447-72.91*1e6+4.27168*1e9\n",
    "dif = right - left\n",
    "\n",
    "# time, intensity and derivative of intensity\n",
    "t_all,I_all,I_abl_all=np.loadtxt('All_Peaks.txt',skiprows=1,usecols=(0,1,2),unpack=True)\n",
    "\n",
    "# find out maxima of curve\n",
    "x = sgn.argrelmax(I_all)\n",
    "y = t_all[x][np.where(I_all[x] < 0.7)]\n",
    "z = I_all[x][np.where(I_all[x] < 0.7)]\n",
    "# the left line corresponds to the first maximum, the right line corresponds to the last maximum\n",
    "# according to that we can do calibration\n",
    "diff = y[-1]-y[0]\n",
    "t_all = (dif / diff * (t_all - y[0]) + left)\n",
    "\n",
    "plt.plot((t_all-left)/1e12, I_all, color=\"blue\", label=\"data\")\n",
    "m = ((dif / diff * (y - y[0]) + left)-left)/1e12\n",
    "plt.axvline(m[0])\n",
    "plt.axvline(m[-1])\n",
    "plt.title(\"Calibration time to frequency\")\n",
    "plt.xlabel(\"Relative Frequency (THz)\")\n",
    "plt.ylabel(\"Intensity (a.u.)\")\n",
    "plt.show()\n",
    "\n",
    "t,I,I_abl=np.loadtxt('Rb85_F2-Rb87_F1.txt',skiprows=1,usecols=(0,1,2),unpack=True)\n",
    "t = (dif / diff * (t - y[0]) + left)\n",
    "\n",
    "# Fit the data using a Gaussian\n",
    "g_init0 = models.Gaussian1D(amplitude=0.3, mean=(dif / diff * (0.003 - y[0]) + left), stddev=0.5e9)\n",
    "g_init1 = models.Gaussian1D(amplitude=0.1, mean=(dif / diff * (0.52 - y[0]) + left), stddev=0.5e9)\n",
    "fit_g = fitting.LevMarLSQFitter()\n",
    "t0 = t[0:350]\n",
    "I0 = (I[0:350]-0.75)*(-1)\n",
    "t1 = t[700:]\n",
    "I1 = (I[700:]-0.75)*(-1)\n",
    "g0 = fit_g(g_init0, t0, I0)\n",
    "g1 = fit_g(g_init1, t1, I1)\n",
    "\n",
    "or_fit = fitting.FittingWithOutlierRemoval(fit_g, sigma_clip, niter = 3, sigma_lower = 1.4)\n",
    "or_fitted_model0, mask0 = or_fit(g_init0, t0, I0)\n",
    "filtered_data0 = np.ma.masked_array(I0, mask=mask0)\n",
    "or_fitted_model1, mask1 = or_fit(g_init1, t1, I1)\n",
    "filtered_data1 = np.ma.masked_array(I1, mask=mask1)\n",
    "\n",
    "plt.plot(t0, I0, color=\"blue\", label=\"data\")\n",
    "plt.plot(t0, g0(t0), label='Gaussian fit')\n",
    "plt.plot(t0,filtered_data0, 'r+', label=\"filtered data\")\n",
    "plt.plot(t0, or_fitted_model0(t0), 'r--',label=\"Gaussian fit without dip\")\n",
    "x0 = sgn.argrelmin(I0)\n",
    "y0 = t0[x0][np.where(I0[x0] > 0.25)]\n",
    "plt.axvline(y0[3])\n",
    "plt.xlabel(\"Relative Frequency (THz)\")\n",
    "plt.ylabel(\"Intensity (a.u.)\")\n",
    "plt.title(\"Intensity v.s. time\")\n",
    "plt.legend()\n",
    "plt.show()\n",
    "\n",
    "plt.plot(t1, g1(t1), label='Gaussian fit')\n",
    "plt.plot(t1, I1, color=\"blue\", label=\"data\")\n",
    "plt.plot(t1,filtered_data1, 'r+', label=\"filtered data\")\n",
    "plt.plot(t1, or_fitted_model1(t1), 'r--',label=\"Gaussian fit without dip\")\n",
    "plt.xlabel(\"Relative Frequency (THz)\")\n",
    "plt.ylabel(\"Intensity (a.u.)\")\n",
    "plt.title(\"Intensity v.s. time\")\n",
    "plt.legend()\n",
    "plt.show()"
   ]
  }
 ],
 "metadata": {
  "kernelspec": {
   "display_name": "Python 3",
   "language": "python",
   "name": "python3"
  },
  "language_info": {
   "codemirror_mode": {
    "name": "ipython",
    "version": 3
   },
   "file_extension": ".py",
   "mimetype": "text/x-python",
   "name": "python",
   "nbconvert_exporter": "python",
   "pygments_lexer": "ipython3",
   "version": "3.7.1"
  },
  "latex_envs": {
   "LaTeX_envs_menu_present": true,
   "autoclose": false,
   "autocomplete": true,
   "bibliofile": "biblio.bib",
   "cite_by": "apalike",
   "current_citInitial": 1,
   "eqLabelWithNumbers": true,
   "eqNumInitial": 1,
   "hotkeys": {
    "equation": "Ctrl-E",
    "itemize": "Ctrl-I"
   },
   "labels_anchors": false,
   "latex_user_defs": false,
   "report_style_numbering": false,
   "user_envs_cfg": false
  },
  "toc": {
   "base_numbering": 1,
   "nav_menu": {},
   "number_sections": true,
   "sideBar": true,
   "skip_h1_title": false,
   "title_cell": "Table of Contents",
   "title_sidebar": "Contents",
   "toc_cell": false,
   "toc_position": {},
   "toc_section_display": true,
   "toc_window_display": false
  },
  "varInspector": {
   "cols": {
    "lenName": 16,
    "lenType": 16,
    "lenVar": 40
   },
   "kernels_config": {
    "python": {
     "delete_cmd_postfix": "",
     "delete_cmd_prefix": "del ",
     "library": "var_list.py",
     "varRefreshCmd": "print(var_dic_list())"
    },
    "r": {
     "delete_cmd_postfix": ") ",
     "delete_cmd_prefix": "rm(",
     "library": "var_list.r",
     "varRefreshCmd": "cat(var_dic_list()) "
    }
   },
   "types_to_exclude": [
    "module",
    "function",
    "builtin_function_or_method",
    "instance",
    "_Feature"
   ],
   "window_display": false
  }
 },
 "nbformat": 4,
 "nbformat_minor": 2
}
