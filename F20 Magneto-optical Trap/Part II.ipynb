{
 "cells": [
  {
   "cell_type": "code",
   "execution_count": null,
   "metadata": {},
   "outputs": [],
   "source": [
    "import numpy as np\n",
    "import matplotlib.pyplot as plt\n",
    "from scipy.optimize import curve_fit\n",
    "#from astropy.modeling import models, fitting\n",
    "#from astropy.stats import sigma_clip\n",
    "#import scipy.signal as sgn\n",
    "#import pandas as pd\n",
    "#df=pd.read_csv('Part II/-5_B7.5/F0000CH2.csv', sep=',', header = None)\n",
    "#print(df)"
   ]
  },
  {
   "cell_type": "code",
   "execution_count": null,
   "metadata": {},
   "outputs": [],
   "source": [
    "#reading out the csv and returning time and voltage as arrays\n",
    "def grabData(file):\n",
    "    #file is string with form :\n",
    "    #'Part II/-<absolute detuning value>_B<value of the current>/F<# of csv with 4 digits>CH1.csv'\n",
    "    #for example 'Part II/-6_B7.5/F0001.csv'\n",
    "    dg = np.genfromtxt(file, delimiter=',')\n",
    "    #6 dim array with most of them being 'empty' caused by the way Oscilloscope writes the .csv\n",
    "    #Example of the first 3 'lines', column 0 and 1 become NaN as well after 17 lines\n",
    "#                   0                   1   2      3     4   5\n",
    "#0        Record Length        2.500000e+03 NaN  0.000  3.04 NaN\n",
    "#1      Sample Interval        1.000000e-03 NaN  0.001  3.02 NaN\n",
    "#2        Trigger Point  0.000000000000e+00 NaN  0.002  3.02 NaN\n",
    "    g0,g1,g2,g3,g4,g5 = np.hsplit(dg,6)\n",
    "    #g3=time, g4=voltage\n",
    "    return g3,g4\n",
    "#fit function for background noise\n",
    "def con(x,b):\n",
    "    return 0*x+b\n",
    "def conversion():\n",
    "    "
   ]
  },
  {
   "cell_type": "code",
   "execution_count": null,
   "metadata": {},
   "outputs": [],
   "source": [
    "#amount of csv files\n",
    "n=32 \n",
    "#array for loop\n",
    "narr=np.arange(n+1,dtype=int) \n",
    "#Numbering for the files with given current\n",
    "current75=([0,4,8,12,16,20,24,29]) \n",
    "current8=([1,5,9,13,17,21,25,30])\n",
    "current85=([2,6,10,14,18,22,27,31])\n",
    "current9=([3,7,11,15,19,23,28,32])"
   ]
  },
  {
   "cell_type": "code",
   "execution_count": null,
   "metadata": {},
   "outputs": [],
   "source": [
    "#Determinging the Background caused by the Laserlight also being measured by the ccd\n",
    "xlin=np.arange(4)\n",
    "t0b, background = grabData('Part II/Background/F0033CH1.csv') #change folder 'Part II if needed'\n",
    "t1b = t0b[np.where(background > 0.025)]\n",
    "back = background[np.where(background > 0.025)]\n",
    "xbb = t0b[np.where(background > 0.043)]\n",
    "ybb = background[np.where(background > 0.043)]\n",
    "ubb, fbb = curve_fit(con,xbb,ybb)\n",
    "xb = t0b[np.where(background < 0.043)]\n",
    "yb = background[np.where(background < 0.043)]\n",
    "xbd = xb[np.where(yb > 0.025)]\n",
    "ybd = yb[np.where(yb > 0.025)]\n",
    "ubd, fbd = curve_fit(con,xbd,ybd)\n",
    "print(np.size(t0),np.size(xb),np.size(xbd))\n",
    "print(ubd)\n",
    "plt.scatter(t1b,back,marker=\"|\")\n",
    "plt.plot(xlin,con(xlin,ubd),'red',linestyle='--')\n",
    "plt.plot(xlin,con(xlin,ubb),'red',linestyle='--')\n",
    "plt.xlabel('Time')\n",
    "plt.ylabel('Voltage')\n",
    "plt.xlim(0,2.5)\n",
    "plt.ylim(0.02,0.06)\n",
    "plt.title('Background from just Laserlight')\n",
    "plt.gcf().set_size_inches(11.69, 8.27)\n",
    "plt.show()"
   ]
  },
  {
   "cell_type": "code",
   "execution_count": null,
   "metadata": {
    "code_folding": [
     34
    ]
   },
   "outputs": [],
   "source": [
    "#Reading out all 33 Files\n",
    "j=1\n",
    "t_all = np.empty((n,2500,1))\n",
    "u_all = np.empty((n,2500,1))\n",
    "for i in narr: #need to change all different strings to match ur folders\n",
    "    if(i==26): #removed cause we have this data set 2 times and this one was worse\n",
    "        continue\n",
    "    if(i<10): \n",
    "        c='F000'+str(i)\n",
    "    else:\n",
    "        c='F00'+str(i)\n",
    "    if(i in current75):\n",
    "        b='7.5'\n",
    "        r=1\n",
    "    if(i in current8):\n",
    "        b='8'\n",
    "        r=2\n",
    "    if(i in current85):\n",
    "        b='8.5'\n",
    "        r=3\n",
    "    if(i in current9):\n",
    "        b='9'\n",
    "        r=4\n",
    "    if(i<4):\n",
    "        a=str(5)\n",
    "        z=1\n",
    "    else: \n",
    "        if(i<8):\n",
    "            a=str(6)\n",
    "            z=2\n",
    "        else:\n",
    "            if(i<12):\n",
    "                a=str(7)\n",
    "                z=3\n",
    "            else:\n",
    "                if(i<16):\n",
    "                    a=str(8)\n",
    "                    z=4\n",
    "                else:\n",
    "                    if(i<20):\n",
    "                        a=str(10)\n",
    "                        z=5\n",
    "                    else:\n",
    "                        if(i<24):\n",
    "                            a=str(12)\n",
    "                            z=6\n",
    "                        else:\n",
    "                            if(i<29):\n",
    "                                a=str(14)\n",
    "                                z=7\n",
    "                            else:\n",
    "                                a=str(16)\n",
    "                                z=8\n",
    "    path = 'Part II/-'+a+'_B'+b+'/'+c+'CH1.csv' \n",
    "    t,u = grabData(path) #everything up till here was just to read out the .csv\n",
    "    if(i<26):\n",
    "        u_all[i]=u\n",
    "        t_all[i]=t\n",
    "\n",
    "    else:\n",
    "        u_all[i-1]=u      \n",
    "        t_all[i-1]=t\n",
    "\n",
    "    t = t[np.where(u > 0.025)]\n",
    "    u = u[np.where(u > 0.025)]\n",
    "    #u=u-background\n",
    "    \n",
    "    plt.subplot(2,4,j)\n",
    "    ymax=np.amax(u)+0.03\n",
    "    plt.scatter(t,u,marker=\"|\") \n",
    "    plt.xlim(t[0],t[-1])\n",
    "    plt.ylim(0.01,ymax)\n",
    "    plt.xlabel('Time')\n",
    "    plt.ylabel('Voltage')\n",
    "    plt.title('I='+b+', $\\delta$='+a)\n",
    "    j=j+1\n",
    "    if(j>8): \n",
    "        plt.subplots_adjust(wspace=0.4,hspace=0.8)\n",
    "        plt.gcf().set_size_inches(11.69, 8.27/1.3)\n",
    "        plt.show()\n",
    "        j=1\n",
    "    del t,u,z,r,a,b,c,path"
   ]
  },
  {
   "cell_type": "code",
   "execution_count": null,
   "metadata": {},
   "outputs": [],
   "source": []
  },
  {
   "cell_type": "code",
   "execution_count": null,
   "metadata": {},
   "outputs": [],
   "source": []
  }
 ],
 "metadata": {
  "kernelspec": {
   "display_name": "Python 3",
   "language": "python",
   "name": "python3"
  },
  "language_info": {
   "codemirror_mode": {
    "name": "ipython",
    "version": 3
   },
   "file_extension": ".py",
   "mimetype": "text/x-python",
   "name": "python",
   "nbconvert_exporter": "python",
   "pygments_lexer": "ipython3",
   "version": "3.7.1"
  },
  "latex_envs": {
   "LaTeX_envs_menu_present": true,
   "autoclose": false,
   "autocomplete": true,
   "bibliofile": "biblio.bib",
   "cite_by": "apalike",
   "current_citInitial": 1,
   "eqLabelWithNumbers": true,
   "eqNumInitial": 1,
   "hotkeys": {
    "equation": "Ctrl-E",
    "itemize": "Ctrl-I"
   },
   "labels_anchors": false,
   "latex_user_defs": false,
   "report_style_numbering": false,
   "user_envs_cfg": false
  },
  "toc": {
   "base_numbering": 1,
   "nav_menu": {
    "height": "12px",
    "width": "160px"
   },
   "number_sections": true,
   "sideBar": true,
   "skip_h1_title": false,
   "title_cell": "Table of Contents",
   "title_sidebar": "Contents",
   "toc_cell": false,
   "toc_position": {},
   "toc_section_display": true,
   "toc_window_display": false
  },
  "varInspector": {
   "cols": {
    "lenName": 16,
    "lenType": 16,
    "lenVar": 40
   },
   "kernels_config": {
    "python": {
     "delete_cmd_postfix": "",
     "delete_cmd_prefix": "del ",
     "library": "var_list.py",
     "varRefreshCmd": "print(var_dic_list())"
    },
    "r": {
     "delete_cmd_postfix": ") ",
     "delete_cmd_prefix": "rm(",
     "library": "var_list.r",
     "varRefreshCmd": "cat(var_dic_list()) "
    }
   },
   "types_to_exclude": [
    "module",
    "function",
    "builtin_function_or_method",
    "instance",
    "_Feature"
   ],
   "window_display": false
  }
 },
 "nbformat": 4,
 "nbformat_minor": 2
}
