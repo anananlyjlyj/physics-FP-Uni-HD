{
 "cells": [
  {
   "cell_type": "code",
   "execution_count": 2,
   "metadata": {},
   "outputs": [
    {
     "data": {
      "image/png": "[encoded data removed]",
      "text/plain": [
       "<matplotlib.figure.Figure at 0x1a9e6ce6a20>"
      ]
     },
     "metadata": {},
     "output_type": "display_data"
    }
   ],
   "source": [
    "import numpy as np\n",
    "import matplotlib.pyplot as plt\n",
    "\n",
    "def Saug(V, t, p):\n",
    "    return V/t*(1000/p)\n",
    "\n",
    "vol = np.array([60,60,60,60,60,60,60])\n",
    "dvol = np.array([1,1,1,1,1,1,1])\n",
    "t = np.array([195.39, 129.73, 96.46, 49.06, 23.10, 14.78, 11.15])\n",
    "p = np.array([5.1e-6, 7.6e-6, 1.0e-5, 2.0e-5, 4.0e-5, 6.0e-5, 8.0e-5])\n",
    "\n",
    "vol2 = np.array([300, 300, 300, 300])\n",
    "t2 = np.array([55.46, 42.92, 21.81, 10.75])\n",
    "p2 = np.array([8.0e-5, 1e-4, 2e-4, 4e-4])\n",
    "\n",
    "vol3 = np.array([600, 600, 600])\n",
    "t3 = np.array([21.72, 14.48, 10.8])\n",
    "p3 = np.array([4.0e-4, 6.0e-4, 8.0e-4])\n",
    "\n",
    "vol4 = np.array([1200, 1200, 1200])\n",
    "t4 = np.array([21.58, 16.89, 8.68])\n",
    "p4 = np.array([8.0e-4, 1.0e-3, 2.0e-3])\n",
    "\n",
    "vol5 = np.array([1e4,1e4,1e4,1e4,1e4,1e4])\n",
    "t5 = np.array([69.29, 35.02, 24.39, 19.14, 15.56, 8.95])\n",
    "p5 = np.array([2e-3, 4e-3, 6e-3, 8e-3, 1e-2, 2e-2])\n",
    "\n",
    "plt.errorbar(p*1e3, Saug(vol, t, p)/1e6, fmt = \".\", color=\"b\")\n",
    "plt.errorbar(p2*1e3, Saug(vol2, t2, p2)/1e6, fmt = \".\", color=\"r\")\n",
    "plt.errorbar(p3*1e3, Saug(vol3, t3, p3)/1e6, fmt = \".\", color=\"y\")\n",
    "plt.errorbar(p4*1e3, Saug(vol4, t4, p4)/1e6, fmt = \".\", color=\"g\")\n",
    "plt.errorbar(p5*1e3, Saug(vol5, t5, p5)/1e6, fmt = \".\", color=\"pink\")\n",
    "plt.xscale('log')\n",
    "plt.xlabel(\"Druck [1e3 mbar]\")\n",
    "plt.ylabel(\"Saugvermögen [mm^3/s]\")\n",
    "plt.title(\"Saugvermögen gegen Druck\")\n",
    "plt.show()"
   ]
  },
  {
   "cell_type": "code",
   "execution_count": 16,
   "metadata": {
    "collapsed": true
   },
   "outputs": [],
   "source": [
    "import numpy as np\n",
    "import matplotlib.pyplot as plt\n",
    "\n",
    "# Geometrische Grösse\n",
    "d_Rohr = 12 #mm\n",
    "l_Rohr = 100 #mm\n",
    "d_Blende = 2.3 #mm\n",
    "\n",
    "# Nur Rohr:\n",
    "p1_oben = np.array([6.0e-4, 7.5e-4, 1.0e-3, 2.1e-3, 4.0e-3, 6.0e-3, 8.0e-3, 1.0e-2, 2.0e-2, 4.0e-2, 6.1e-2, 8.1e-2, 1.0e-1, 2.0e-1, 4.0e-1, 6.0e-1, 8.0e-1])\n",
    "p1_unten = np.array([1.0e-5, 1.1e-5, 1.2e-5, 1.8e-5, 2.6e-5, 3.4e-5, 4.2e-5, 5.0e-5, 8.9e-5, 1.8e-4, 3.0e-4, 4.0e-4, 6.0e-4, 1.7e-3, 5.8e-3, 1.2e-2, 2.5e-2])\n",
    "\n",
    "# Nur Blende:\n",
    "p2_oben = np.array([2.6e-4, 4.9e-4, 7.4e-4, 1.0e-3, 2.5e-3, 5.0e-3, 7.4e-3, 1.0e-2, 2.5e-2, 5.0e-2, 7.4e-2, 1.0e-1, 2.6e-1, 5.0e-1, 7.6e-1, 1.0, 1.8])\n",
    "p2_unten = np.array([1.6e-5, 1.8e-5, 2.1e-5, 2.3e-5, 3.7e-5, 5.9e-5, 7.9e-5, 9.7e-5, 2.1e-4, 4.2e-4, 6.2e-4, 8.6e-4, 2.5e-3, 5.1e-3, 8.2e-2, 1.1e-2, 2.5e-2])\n",
    "\n",
    "# Serienschaltung von Rohr und Blende:\n",
    "p3_oben = np.array([7.7e-4, 1.0e-3, 2.0e-3, 3.8e-3, 6.2e-3, 8.0e-3, 1.0e-2, 2.0e-2, 4.1e-2, 6.0e-2, 8.1e-2, 1.0e-1, 2.0e-1, 4.0e-1, 5.9e-1, 8.0e-1, 1.0, 2.0])\n",
    "p3_unten = np.array([1.3e-5, 1.3e-5, 1.6e-5, 2.2e-5, 2.8e-5, 3.3e-5, 3.8e-5, 6.2e-5, 1.2e-4, 1.9e-4, 2.5e-4, 3.6e-4, 9.1e-4, 2.7e-3, 4.6e-2, 7.2e-2, 1.0e-2, 2.8e-2])\n"
   ]
  },
  {
   "cell_type": "markdown",
   "metadata": {},
   "source": [
    "Für den Leitwert gilt: $L=\\frac{\\pi}{8}\\cdot r^4 \\cdot \\frac{\\bar{p}}{\\eta l}$ nach Gleichung 8 auf den Skript, mit der Radius des Rohres $r$, der Länge des Rohres $l$, der Druckdurchschnitt $\\bar{p}=\\frac{p_1+p_2}{2}$ und der Viskosität des Gases $\\eta$.\n",
    "\n",
    "Für den Leitwert eines Rohres gilt: $L= \\frac{8}{3} \\cdot \\frac{r^3}{l}\\sqrt{\\frac{\\pi RT}{2M}}$ nach Gleichung 9 auf den Skript, mit der Gaskonstanten $R$, Temperatur $T$ und Molekulargewicht $M$. Die Formel gilt für den Fall der Molekularströmung, also die Anzahl der Stösse der Gasmoleküle an die ideal glatte Wand überwiegt die der Gasteilchen unterienander.\n",
    "\n",
    "gilt: $L=\\frac{Q}{\\Delta p}=F\\cdot\\frac{\\bar{\\mu}}{4}$ mit $F=\\pi r^2$, $\\bar{\\mu}=\\sqrt{\\frac{8}{\\pi}\\frac{R\\cdot T}{M}}$"
   ]
  },
  {
   "cell_type": "code",
   "execution_count": 20,
   "metadata": {},
   "outputs": [
    {
     "data": {
      "image/png": "[encoded data removed]",
      "text/plain": [
       "<matplotlib.figure.Figure at 0x1a9e795b358>"
      ]
     },
     "metadata": {},
     "output_type": "display_data"
    }
   ],
   "source": [
    "# Viskosität der Wasserdampf\n",
    "eta = 0.00013\n",
    "# Rohr\n",
    "L1 = np.pi/8 * (d_Rohr/2)**4 * (p1_oben + p1_unten)/2 /(eta * l_Rohr)\n",
    "plt.errorbar(np.log10(p1_unten), L1, fmt = \".\", color=\"b\", label = \"Rhor\")\n",
    "\n",
    "# Blende\n",
    "L2 = np.pi/8 * (d_Blende/2)**4 * (p2_oben + p2_unten)/2 /(eta * l_Rohr)\n",
    "plt.errorbar(np.log10(p2_unten), L2, fmt = \".\", color=\"red\", label = \"Blende\")\n",
    "\n",
    "# Rohr + Blende\n",
    "L3 = np.pi/8 * (d_Rohr/2)**4 * (p3_oben + p3_unten)/2 /(eta * l_Rohr)\n",
    "plt.errorbar(np.log10(p3_unten), L3, fmt = \".\", color=\"orange\", label = \"Rohr + Blende\")\n",
    "\n",
    "plt.xlabel(\"log(Druck) [mbar]\")\n",
    "plt.ylabel(\"Leitwert [mm^3/s]\")\n",
    "plt.title(\"Leitwert des Rohres gegen Druck\")\n",
    "plt.legend()\n",
    "plt.show()"
   ]
  }
 ],
 "metadata": {
  "kernelspec": {
   "display_name": "Python 3",
   "language": "python",
   "name": "python3"
  },
  "language_info": {
   "codemirror_mode": {
    "name": "ipython",
    "version": 3
   },
   "file_extension": ".py",
   "mimetype": "text/x-python",
   "name": "python",
   "nbconvert_exporter": "python",
   "pygments_lexer": "ipython3",
   "version": "3.6.3"
  },
  "latex_envs": {
   "LaTeX_envs_menu_present": true,
   "autoclose": false,
   "autocomplete": true,
   "bibliofile": "biblio.bib",
   "cite_by": "apalike",
   "current_citInitial": 1,
   "eqLabelWithNumbers": true,
   "eqNumInitial": 1,
   "hotkeys": {
    "equation": "Ctrl-E",
    "itemize": "Ctrl-I"
   },
   "labels_anchors": false,
   "latex_user_defs": false,
   "report_style_numbering": false,
   "user_envs_cfg": false
  },
  "toc": {
   "base_numbering": 1,
   "nav_menu": {},
   "number_sections": true,
   "sideBar": true,
   "skip_h1_title": false,
   "title_cell": "Table of Contents",
   "title_sidebar": "Contents",
   "toc_cell": false,
   "toc_position": {},
   "toc_section_display": true,
   "toc_window_display": false
  },
  "varInspector": {
   "cols": {
    "lenName": 16,
    "lenType": 16,
    "lenVar": 40
   },
   "kernels_config": {
    "python": {
     "delete_cmd_postfix": "",
     "delete_cmd_prefix": "del ",
     "library": "var_list.py",
     "varRefreshCmd": "print(var_dic_list())"
    },
    "r": {
     "delete_cmd_postfix": ") ",
     "delete_cmd_prefix": "rm(",
     "library": "var_list.r",
     "varRefreshCmd": "cat(var_dic_list()) "
    }
   },
   "types_to_exclude": [
    "module",
    "function",
    "builtin_function_or_method",
    "instance",
    "_Feature"
   ],
   "window_display": false
  }
 },
 "nbformat": 4,
 "nbformat_minor": 2
}
