{
 "cells": [
  {
   "cell_type": "markdown",
   "metadata": {},
   "source": [
    "# Auswertung des FPs Mechanik und Vakuum\n",
    "\n",
    "## 1. Saugvermögen der TMP\n",
    "\n",
    "Wir haben die Kapillare von verschiedenen Grösse an der TMP angeflaschen und die Laufzeit einer kleinen Volum von Wasser in der Kapillaren bei verschiedenen Druck gemessen.  "
   ]
  },
  {
   "cell_type": "code",
   "execution_count": null,
   "metadata": {},
   "outputs": [],
   "source": [
    "import numpy as np\n",
    "import matplotlib.pyplot as plt\n",
    "\n",
    "def Saug(V, t, p):\n",
    "    return V/t*(1000/p)\n",
    "\n",
    "vol = np.array([60,60,60,60,60,60,60])\n",
    "dvol = np.array([1,1,1,1,1,1,1])\n",
    "t = np.array([195.39, 129.73, 96.46, 49.06, 23.10, 14.78, 11.15])\n",
    "p = np.array([5.1e-6, 7.6e-6, 1.0e-5, 2.0e-5, 4.0e-5, 6.0e-5, 8.0e-5])\n",
    "\n",
    "vol2 = np.array([300, 300, 300, 300])\n",
    "t2 = np.array([55.46, 42.92, 21.81, 10.75])\n",
    "p2 = np.array([8.0e-5, 1e-4, 2e-4, 4e-4])\n",
    "\n",
    "vol3 = np.array([600, 600, 600])\n",
    "t3 = np.array([21.72, 14.48, 10.8])\n",
    "p3 = np.array([4.0e-4, 6.0e-4, 8.0e-4])\n",
    "\n",
    "vol4 = np.array([1200, 1200, 1200])\n",
    "t4 = np.array([21.58, 16.89, 8.68])\n",
    "p4 = np.array([8.0e-4, 1.0e-3, 2.0e-3])\n",
    "\n",
    "vol5 = np.array([1e4,1e4,1e4,1e4,1e4,1e4])\n",
    "t5 = np.array([69.29, 35.02, 24.39, 19.14, 15.56, 8.95])\n",
    "p5 = np.array([2e-3, 4e-3, 6e-3, 8e-3, 1e-2, 2e-2])\n",
    "\n",
    "plt.errorbar(p*1e3, Saug(vol, t, p)/1e6, fmt = \".\", color=\"b\")\n",
    "plt.errorbar(p2*1e3, Saug(vol2, t2, p2)/1e6, fmt = \".\", color=\"r\")\n",
    "plt.errorbar(p3*1e3, Saug(vol3, t3, p3)/1e6, fmt = \".\", color=\"y\")\n",
    "plt.errorbar(p4*1e3, Saug(vol4, t4, p4)/1e6, fmt = \".\", color=\"g\")\n",
    "plt.errorbar(p5*1e3, Saug(vol5, t5, p5)/1e6, fmt = \".\", color=\"pink\")\n",
    "plt.xscale('log')\n",
    "plt.xlabel(\"Druck [1e3 mbar]\")\n",
    "plt.ylabel(\"Saugvermögen [mm^3/s]\")\n",
    "plt.title(\"Saugvermögen gegen Druck\")\n",
    "plt.show()"
   ]
  },
  {
   "cell_type": "markdown",
   "metadata": {},
   "source": [
    "## 2. Leitweit von Rohr und Blende\n",
    "\n",
    "### 2.1 "
   ]
  },
  {
   "cell_type": "code",
   "execution_count": null,
   "metadata": {
    "collapsed": true
   },
   "outputs": [],
   "source": []
  }
 ],
 "metadata": {
  "kernelspec": {
   "display_name": "Python 3",
   "language": "python",
   "name": "python3"
  },
  "language_info": {
   "codemirror_mode": {
    "name": "ipython",
    "version": 3
   },
   "file_extension": ".py",
   "mimetype": "text/x-python",
   "name": "python",
   "nbconvert_exporter": "python",
   "pygments_lexer": "ipython3",
   "version": "3.6.3"
  }
 },
 "nbformat": 4,
 "nbformat_minor": 2
}
